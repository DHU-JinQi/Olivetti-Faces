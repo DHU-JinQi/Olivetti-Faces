{
 "cells": [
  {
   "cell_type": "code",
   "execution_count": 1,
   "metadata": {},
   "outputs": [],
   "source": [
    "# Ignore  the warnings\n",
    "import warnings\n",
    "warnings.filterwarnings('always')\n",
    "warnings.filterwarnings('ignore')\n",
    "\n",
    "import numpy as np\n",
    "import pandas as pd\n",
    "import time\n",
    "import random\n",
    "\n",
    "from sklearn.utils import shuffle\n",
    "\n",
    "from sklearn.preprocessing import MinMaxScaler\n",
    "\n",
    "from sklearn.model_selection import cross_val_score\n",
    "\n",
    "from sklearn.svm import LinearSVC,SVC\n",
    "from sklearn.naive_bayes import GaussianNB\n",
    "from sklearn.neighbors import KNeighborsClassifier\n",
    "from sklearn.linear_model import SGDClassifier\n",
    "from sklearn.linear_model import LogisticRegression\n",
    "from sklearn.ensemble import RandomForestClassifier\n",
    "from sklearn.ensemble import GradientBoostingClassifier\n",
    "from sklearn.ensemble import AdaBoostClassifier\n",
    "from sklearn.ensemble import BaggingClassifier\n",
    "from sklearn.ensemble import ExtraTreesClassifier\n",
    "from sklearn.ensemble import VotingClassifier\n",
    "from sklearn.tree import DecisionTreeClassifier\n",
    "from xgboost import XGBClassifier\n",
    "\n",
    "from sklearn.decomposition import PCA\n",
    "\n",
    "from sklearn.metrics import accuracy_score\n",
    "from sklearn.metrics import confusion_matrix\n",
    "from sklearn.metrics import cohen_kappa_score\n",
    "\n",
    "#from sklearn.datasets import fetch_olivetti_faces\n",
    "#of= fetch_olivetti_faces()"
   ]
  },
  {
   "cell_type": "code",
   "execution_count": 2,
   "metadata": {},
   "outputs": [],
   "source": [
    "data=pd.read_table('faces.txt',' ',header=None)"
   ]
  },
  {
   "cell_type": "code",
   "execution_count": 3,
   "metadata": {},
   "outputs": [],
   "source": [
    "scaler=MinMaxScaler()\n",
    "scaler.fit(data)\n",
    "data=scaler.transform(data)\n",
    "data=pd.DataFrame(data)\n",
    "Y = np.array([i for i in range(1,41,1)])\n",
    "Y = np.repeat(Y, [10]*40, axis=0)\n",
    "data.insert(0,'Y',Y)"
   ]
  },
  {
   "cell_type": "code",
   "execution_count": 4,
   "metadata": {},
   "outputs": [],
   "source": [
    "def generate_mask(tem,n_samples,n_categories):\n",
    "    n_samples_per_class=n_samples//n_categories#每类样本数    \n",
    "    return list(pd.Series(range(n_samples_per_class)).isin(tmp))*n_categories\n",
    "\n",
    "#系统抽样\n",
    "def system_sampling(n_samples,n_categories):\n",
    "    '''\n",
    "    输入：样本数量，类型数\n",
    "    返回：训练集、开发集、测试集的索引\n",
    "\n",
    "    '''\n",
    "    n_samples_per_class=n_samples//n_categories#每类样本数\n",
    "    \n",
    "    train_tem=random.sample(range(n_samples_per_class),int(0.6*n_samples_per_class))\n",
    "    \n",
    "    dev_test=list(set(range(n_samples_per_class))-set(train_tem))\n",
    "    \n",
    "    dev_tem=random.sample(dev_test,int(0.2*n_samples_per_class))\n",
    "    \n",
    "    test_tem=list(set(dev_test)-set(dev_tem))\n",
    "    \n",
    "    train_index=generate_mask(train_tem,n_samples,n_categories)\n",
    "    \n",
    "    test_index=generate_mask(test_tem,n_samples,n_categories)\n",
    "    \n",
    "    dev_index=generate_mask(dev_tem,n_samples,n_categories)\n",
    "    \n",
    "    return train_index,test_index,dev_index"
   ]
  },
  {
   "cell_type": "code",
   "execution_count": 5,
   "metadata": {},
   "outputs": [],
   "source": [
    "train_index,validation_index,test_index=system_sampling(400,40)"
   ]
  },
  {
   "cell_type": "code",
   "execution_count": 6,
   "metadata": {},
   "outputs": [],
   "source": [
    "data_test=data.loc[test_index]\n",
    "data_train=data.loc[train_index]\n",
    "data_validation=data.loc[validation_index]"
   ]
  },
  {
   "cell_type": "code",
   "execution_count": 7,
   "metadata": {},
   "outputs": [],
   "source": [
    "x_train=np.array(data_train[data_train.columns.difference(['Y'])])\n",
    "y_train=np.array(data_train['Y'])\n",
    "\n",
    "x_val=np.array(data_validation[data_validation.columns.difference(['Y'])])\n",
    "y_val=np.array(data_validation['Y'])\n",
    "\n",
    "x_test=np.array(data_test[data_test.columns.difference(['Y'])])\n",
    "y_test=np.array(data_test['Y'])"
   ]
  },
  {
   "cell_type": "code",
   "execution_count": 8,
   "metadata": {},
   "outputs": [],
   "source": [
    "models=[GaussianNB(),SGDClassifier(),KNeighborsClassifier()\n",
    "        ,LinearSVC(),LogisticRegression(),SVC(kernel='rbf')\n",
    "        ,DecisionTreeClassifier(),AdaBoostClassifier(),GradientBoostingClassifier()\n",
    "        ,RandomForestClassifier(),BaggingClassifier(),ExtraTreesClassifier()\n",
    "        ,XGBClassifier()]\n",
    "\n",
    "model_names=['GaussianNB','SGDClassifier','KNearestNeighbors'\n",
    "             ,'LinearSVM','LogisticRegression','rbfSVM'\n",
    "             ,'DecisionTree','AdaBoostClassifier','GradientBoostingClassifier'\n",
    "             ,'RandomForestClassifier','BaggingClassifier','ExtraTreesClassifier'\n",
    "             ,'xgboost'\n",
    "]\n",
    "\n",
    "accuracy=[]\n",
    "clf=[]\n",
    "t=[]\n",
    "i=0\n",
    "for m in range(len(models)):\n",
    "    clf.append(models[m])\n",
    "    time_start = time.time()\n",
    "    clf[i].fit(x_train,y_train)\n",
    "    pred=clf[i].predict(x_val)\n",
    "    accuracy.append(accuracy_score(pred,y_val))\n",
    "    time_end = time.time()\n",
    "    t.append(time_end-time_start)\n",
    "    i=i+1\n",
    "result_frame1=pd.DataFrame({'Model':model_names,'Validation set accuracy':accuracy,'Time':t})"
   ]
  },
  {
   "cell_type": "code",
   "execution_count": 9,
   "metadata": {},
   "outputs": [
    {
     "data": {
      "text/html": [
       "<div>\n",
       "<style scoped>\n",
       "    .dataframe tbody tr th:only-of-type {\n",
       "        vertical-align: middle;\n",
       "    }\n",
       "\n",
       "    .dataframe tbody tr th {\n",
       "        vertical-align: top;\n",
       "    }\n",
       "\n",
       "    .dataframe thead th {\n",
       "        text-align: right;\n",
       "    }\n",
       "</style>\n",
       "<table border=\"1\" class=\"dataframe\">\n",
       "  <thead>\n",
       "    <tr style=\"text-align: right;\">\n",
       "      <th></th>\n",
       "      <th>Model</th>\n",
       "      <th>Validation set accuracy</th>\n",
       "      <th>Time</th>\n",
       "    </tr>\n",
       "  </thead>\n",
       "  <tbody>\n",
       "    <tr>\n",
       "      <th>0</th>\n",
       "      <td>GaussianNB</td>\n",
       "      <td>0.8125</td>\n",
       "      <td>0.201461</td>\n",
       "    </tr>\n",
       "    <tr>\n",
       "      <th>1</th>\n",
       "      <td>SGDClassifier</td>\n",
       "      <td>0.2875</td>\n",
       "      <td>0.277258</td>\n",
       "    </tr>\n",
       "    <tr>\n",
       "      <th>2</th>\n",
       "      <td>KNearestNeighbors</td>\n",
       "      <td>0.7750</td>\n",
       "      <td>0.173537</td>\n",
       "    </tr>\n",
       "    <tr>\n",
       "      <th>3</th>\n",
       "      <td>LinearSVM</td>\n",
       "      <td>0.9375</td>\n",
       "      <td>10.866472</td>\n",
       "    </tr>\n",
       "    <tr>\n",
       "      <th>4</th>\n",
       "      <td>LogisticRegression</td>\n",
       "      <td>0.9375</td>\n",
       "      <td>5.204164</td>\n",
       "    </tr>\n",
       "    <tr>\n",
       "      <th>5</th>\n",
       "      <td>rbfSVM</td>\n",
       "      <td>0.7500</td>\n",
       "      <td>0.801859</td>\n",
       "    </tr>\n",
       "    <tr>\n",
       "      <th>6</th>\n",
       "      <td>DecisionTree</td>\n",
       "      <td>0.5375</td>\n",
       "      <td>1.718409</td>\n",
       "    </tr>\n",
       "    <tr>\n",
       "      <th>7</th>\n",
       "      <td>AdaBoostClassifier</td>\n",
       "      <td>0.1500</td>\n",
       "      <td>4.264610</td>\n",
       "    </tr>\n",
       "    <tr>\n",
       "      <th>8</th>\n",
       "      <td>GradientBoostingClassifier</td>\n",
       "      <td>0.5000</td>\n",
       "      <td>46.531203</td>\n",
       "    </tr>\n",
       "    <tr>\n",
       "      <th>9</th>\n",
       "      <td>RandomForestClassifier</td>\n",
       "      <td>0.6750</td>\n",
       "      <td>0.153590</td>\n",
       "    </tr>\n",
       "    <tr>\n",
       "      <th>10</th>\n",
       "      <td>BaggingClassifier</td>\n",
       "      <td>0.6250</td>\n",
       "      <td>10.840029</td>\n",
       "    </tr>\n",
       "    <tr>\n",
       "      <th>11</th>\n",
       "      <td>ExtraTreesClassifier</td>\n",
       "      <td>0.7500</td>\n",
       "      <td>0.036901</td>\n",
       "    </tr>\n",
       "    <tr>\n",
       "      <th>12</th>\n",
       "      <td>xgboost</td>\n",
       "      <td>0.6375</td>\n",
       "      <td>170.266380</td>\n",
       "    </tr>\n",
       "  </tbody>\n",
       "</table>\n",
       "</div>"
      ],
      "text/plain": [
       "                         Model  Validation set accuracy        Time\n",
       "0                   GaussianNB                   0.8125    0.201461\n",
       "1                SGDClassifier                   0.2875    0.277258\n",
       "2            KNearestNeighbors                   0.7750    0.173537\n",
       "3                    LinearSVM                   0.9375   10.866472\n",
       "4           LogisticRegression                   0.9375    5.204164\n",
       "5                       rbfSVM                   0.7500    0.801859\n",
       "6                 DecisionTree                   0.5375    1.718409\n",
       "7           AdaBoostClassifier                   0.1500    4.264610\n",
       "8   GradientBoostingClassifier                   0.5000   46.531203\n",
       "9       RandomForestClassifier                   0.6750    0.153590\n",
       "10           BaggingClassifier                   0.6250   10.840029\n",
       "11        ExtraTreesClassifier                   0.7500    0.036901\n",
       "12                     xgboost                   0.6375  170.266380"
      ]
     },
     "execution_count": 9,
     "metadata": {},
     "output_type": "execute_result"
    }
   ],
   "source": [
    "result_frame1"
   ]
  },
  {
   "cell_type": "markdown",
   "metadata": {},
   "source": [
    " "
   ]
  },
  {
   "cell_type": "markdown",
   "metadata": {},
   "source": [
    " "
   ]
  },
  {
   "cell_type": "markdown",
   "metadata": {},
   "source": [
    " "
   ]
  },
  {
   "cell_type": "markdown",
   "metadata": {},
   "source": [
    "调参"
   ]
  },
  {
   "cell_type": "markdown",
   "metadata": {},
   "source": [
    "1.SVM"
   ]
  },
  {
   "cell_type": "code",
   "execution_count": 11,
   "metadata": {
    "scrolled": true
   },
   "outputs": [
    {
     "name": "stdout",
     "output_type": "stream",
     "text": [
      "Kernel linear 准确率： 0.9375\n",
      "Kernel poly 准确率： 0.7\n",
      "Kernel rbf 准确率： 0.75\n",
      "Kernel sigmoid 准确率： 0.7375\n"
     ]
    }
   ],
   "source": [
    "SVM_time_start1 = time.time()\n",
    "kernel=['linear','poly','rbf','sigmoid']\n",
    "for k in kernel:\n",
    "    clf=SVC(kernel=k)\n",
    "    clf.fit(x_train,y_train)\n",
    "    pred=clf.predict(x_val)\n",
    "    print('Kernel',k,'准确率：',accuracy_score(pred,y_val))\n",
    "SVM_time_end1 = time.time()"
   ]
  },
  {
   "cell_type": "code",
   "execution_count": 12,
   "metadata": {},
   "outputs": [
    {
     "data": {
      "text/plain": [
       "2.998931407928467"
      ]
     },
     "execution_count": 12,
     "metadata": {},
     "output_type": "execute_result"
    }
   ],
   "source": [
    "SVM_time_end1-SVM_time_start1"
   ]
  },
  {
   "cell_type": "code",
   "execution_count": 13,
   "metadata": {},
   "outputs": [
    {
     "name": "stdout",
     "output_type": "stream",
     "text": [
      "参数： C: 0.01 gamma: 0.01 准确率： 0.925\n",
      "参数： C: 0.01 gamma: 0.1 准确率： 0.925\n",
      "参数： C: 0.01 gamma: 1 准确率： 0.925\n",
      "参数： C: 0.01 gamma: 10 准确率： 0.925\n",
      "参数： C: 0.01 gamma: 100 准确率： 0.925\n",
      "参数： C: 0.01 gamma: 1000 准确率： 0.925\n",
      "参数： C: 0.1 gamma: 0.01 准确率： 0.9375\n",
      "参数： C: 0.1 gamma: 0.1 准确率： 0.9375\n",
      "参数： C: 0.1 gamma: 1 准确率： 0.9375\n",
      "参数： C: 0.1 gamma: 10 准确率： 0.9375\n",
      "参数： C: 0.1 gamma: 100 准确率： 0.9375\n",
      "参数： C: 0.1 gamma: 1000 准确率： 0.9375\n",
      "参数： C: 1 gamma: 0.01 准确率： 0.9375\n",
      "参数： C: 1 gamma: 0.1 准确率： 0.9375\n",
      "参数： C: 1 gamma: 1 准确率： 0.9375\n",
      "参数： C: 1 gamma: 10 准确率： 0.9375\n",
      "参数： C: 1 gamma: 100 准确率： 0.9375\n",
      "参数： C: 1 gamma: 1000 准确率： 0.9375\n",
      "参数： C: 10 gamma: 0.01 准确率： 0.9375\n",
      "参数： C: 10 gamma: 0.1 准确率： 0.9375\n",
      "参数： C: 10 gamma: 1 准确率： 0.9375\n",
      "参数： C: 10 gamma: 10 准确率： 0.9375\n",
      "参数： C: 10 gamma: 100 准确率： 0.9375\n",
      "参数： C: 10 gamma: 1000 准确率： 0.9375\n",
      "参数： C: 100 gamma: 0.01 准确率： 0.9375\n",
      "参数： C: 100 gamma: 0.1 准确率： 0.9375\n",
      "参数： C: 100 gamma: 1 准确率： 0.9375\n",
      "参数： C: 100 gamma: 10 准确率： 0.9375\n",
      "参数： C: 100 gamma: 100 准确率： 0.9375\n",
      "参数： C: 100 gamma: 1000 准确率： 0.9375\n",
      "参数： C: 1000 gamma: 0.01 准确率： 0.9375\n",
      "参数： C: 1000 gamma: 0.1 准确率： 0.9375\n",
      "参数： C: 1000 gamma: 1 准确率： 0.9375\n",
      "参数： C: 1000 gamma: 10 准确率： 0.9375\n",
      "参数： C: 1000 gamma: 100 准确率： 0.9375\n",
      "参数： C: 1000 gamma: 1000 准确率： 0.9375\n"
     ]
    }
   ],
   "source": [
    "SVM_time_start2 = time.time()\n",
    "C=[0.01,0.1,1,10,100,1000]\n",
    "gamma=[0.01,0.1,1,10,100,1000]\n",
    "for c in C:\n",
    "    for g in gamma:\n",
    "        clf=SVC(C=c,kernel='linear',gamma=g)\n",
    "        clf.fit(x_train,y_train)\n",
    "        pred=clf.predict(x_val)\n",
    "        print('参数：','C:',c,'gamma:',g,'准确率：',accuracy_score(pred,y_val))\n",
    "SVM_time_end2 = time.time()"
   ]
  },
  {
   "cell_type": "code",
   "execution_count": 14,
   "metadata": {},
   "outputs": [
    {
     "data": {
      "text/plain": [
       "24.425994634628296"
      ]
     },
     "execution_count": 14,
     "metadata": {},
     "output_type": "execute_result"
    }
   ],
   "source": [
    "SVM_time_end2-SVM_time_start2"
   ]
  },
  {
   "cell_type": "markdown",
   "metadata": {},
   "source": [
    " "
   ]
  },
  {
   "cell_type": "markdown",
   "metadata": {},
   "source": [
    " "
   ]
  },
  {
   "cell_type": "markdown",
   "metadata": {},
   "source": [
    "2.GaussianNB"
   ]
  },
  {
   "cell_type": "code",
   "execution_count": 15,
   "metadata": {},
   "outputs": [
    {
     "name": "stdout",
     "output_type": "stream",
     "text": [
      "参数： var_smoothing: 1 准确率： 0.7375\n",
      "参数： var_smoothing: 0.1 准确率： 0.8875\n",
      "参数： var_smoothing: 0.01 准确率： 0.8375\n",
      "参数： var_smoothing: 0.001 准确率： 0.8125\n",
      "参数： var_smoothing: 0.0001 准确率： 0.8125\n",
      "参数： var_smoothing: 1e-05 准确率： 0.8125\n",
      "参数： var_smoothing: 1e-06 准确率： 0.8125\n",
      "参数： var_smoothing: 1e-07 准确率： 0.8125\n",
      "参数： var_smoothing: 1e-08 准确率： 0.8125\n",
      "参数： var_smoothing: 1e-09 准确率： 0.8125\n"
     ]
    }
   ],
   "source": [
    "NB_time_start = time.time()\n",
    "var_smoothing=[10**-i for i in range(10)]\n",
    "for v in var_smoothing:\n",
    "        clf=GaussianNB(var_smoothing=v)\n",
    "        clf.fit(x_train,y_train)\n",
    "        pred=clf.predict(x_val)\n",
    "        print('参数：','var_smoothing:',v,'准确率：',accuracy_score(pred,y_val))\n",
    "NB_time_end = time.time()"
   ]
  },
  {
   "cell_type": "code",
   "execution_count": 16,
   "metadata": {},
   "outputs": [
    {
     "data": {
      "text/plain": [
       "2.565253734588623"
      ]
     },
     "execution_count": 16,
     "metadata": {},
     "output_type": "execute_result"
    }
   ],
   "source": [
    "NB_time_end-NB_time_start"
   ]
  },
  {
   "cell_type": "markdown",
   "metadata": {},
   "source": [
    " "
   ]
  },
  {
   "cell_type": "markdown",
   "metadata": {},
   "source": [
    " "
   ]
  },
  {
   "cell_type": "markdown",
   "metadata": {},
   "source": [
    "3.KNearestNeighbors"
   ]
  },
  {
   "cell_type": "code",
   "execution_count": 17,
   "metadata": {},
   "outputs": [
    {
     "name": "stdout",
     "output_type": "stream",
     "text": [
      "参数： n_neighbors=: 1 准确率： 0.9125\n",
      "参数： n_neighbors=: 2 准确率： 0.825\n",
      "参数： n_neighbors=: 3 准确率： 0.8125\n",
      "参数： n_neighbors=: 4 准确率： 0.7875\n",
      "参数： n_neighbors=: 5 准确率： 0.775\n",
      "参数： n_neighbors=: 6 准确率： 0.7375\n",
      "参数： n_neighbors=: 7 准确率： 0.7125\n",
      "参数： n_neighbors=: 8 准确率： 0.675\n",
      "参数： n_neighbors=: 9 准确率： 0.65\n",
      "参数： n_neighbors=: 10 准确率： 0.6125\n"
     ]
    }
   ],
   "source": [
    "KNN_time_start = time.time()\n",
    "n_neighbors=[i for i in range(1,11)]\n",
    "for n in n_neighbors:\n",
    "        clf=KNeighborsClassifier(n_neighbors=n)\n",
    "        clf.fit(x_train,y_train)\n",
    "        pred=clf.predict(x_val)\n",
    "        print('参数：','n_neighbors=:',n,'准确率：',accuracy_score(pred,y_val))\n",
    "KNN_time_end = time.time()"
   ]
  },
  {
   "cell_type": "code",
   "execution_count": 19,
   "metadata": {},
   "outputs": [
    {
     "data": {
      "text/plain": [
       "1.785017490386963"
      ]
     },
     "execution_count": 19,
     "metadata": {},
     "output_type": "execute_result"
    }
   ],
   "source": [
    "KNN_time_end-KNN_time_start"
   ]
  },
  {
   "cell_type": "markdown",
   "metadata": {},
   "source": [
    " "
   ]
  },
  {
   "cell_type": "markdown",
   "metadata": {},
   "source": [
    " "
   ]
  },
  {
   "cell_type": "markdown",
   "metadata": {},
   "source": [
    "4.LogisticRegression"
   ]
  },
  {
   "cell_type": "code",
   "execution_count": 18,
   "metadata": {},
   "outputs": [
    {
     "name": "stdout",
     "output_type": "stream",
     "text": [
      "参数： penalty: l1 C: 0.001 准确率： 0.025\n",
      "参数： penalty: l1 C: 0.01 准确率： 0.025\n",
      "参数： penalty: l1 C: 0.1 准确率： 0.1125\n",
      "参数： penalty: l1 C: 1 准确率： 0.725\n",
      "参数： penalty: l1 C: 10 准确率： 0.8875\n",
      "参数： penalty: l1 C: 100 准确率： 0.9125\n",
      "参数： penalty: l1 C: 1000 准确率： 0.925\n",
      "参数： penalty: l2 C: 0.001 准确率： 0.475\n",
      "参数： penalty: l2 C: 0.01 准确率： 0.875\n",
      "参数： penalty: l2 C: 0.1 准确率： 0.9375\n",
      "参数： penalty: l2 C: 1 准确率： 0.9375\n",
      "参数： penalty: l2 C: 10 准确率： 0.925\n",
      "参数： penalty: l2 C: 100 准确率： 0.925\n",
      "参数： penalty: l2 C: 1000 准确率： 0.925\n"
     ]
    }
   ],
   "source": [
    "LR_time_start = time.time()\n",
    "LR_accuracy=[]\n",
    "penalty=['l1','l2']\n",
    "C=[0.001, 0.01, 0.1, 1, 10, 100, 1000]\n",
    "for p in penalty:\n",
    "    for c in C:\n",
    "        clf=LogisticRegression(penalty=p,C=c)\n",
    "        clf.fit(x_train,y_train)\n",
    "        pred=clf.predict(x_val)\n",
    "        print('参数：','penalty:',p,'C:',c,'准确率：',accuracy_score(pred,y_val))\n",
    "        LR_accuracy.append(accuracy_score(pred,y_val))\n",
    "LR_time_end = time.time()"
   ]
  },
  {
   "cell_type": "code",
   "execution_count": 21,
   "metadata": {},
   "outputs": [
    {
     "data": {
      "text/plain": [
       "50.156182050704956"
      ]
     },
     "execution_count": 21,
     "metadata": {},
     "output_type": "execute_result"
    }
   ],
   "source": [
    "LR_time_end-LR_time_start"
   ]
  },
  {
   "cell_type": "markdown",
   "metadata": {},
   "source": [
    "\n"
   ]
  },
  {
   "cell_type": "markdown",
   "metadata": {},
   "source": [
    " "
   ]
  },
  {
   "cell_type": "markdown",
   "metadata": {},
   "source": [
    "5.ExtraTreesClassifier"
   ]
  },
  {
   "cell_type": "code",
   "execution_count": 22,
   "metadata": {},
   "outputs": [
    {
     "name": "stdout",
     "output_type": "stream",
     "text": [
      "参数： n_estimators= 100 准确率： 0.925\n",
      "参数： n_estimators= 200 准确率： 0.925\n",
      "参数： n_estimators= 300 准确率： 0.9375\n",
      "参数： n_estimators= 400 准确率： 0.9375\n",
      "参数： n_estimators= 500 准确率： 0.925\n",
      "参数： n_estimators= 600 准确率： 0.9375\n"
     ]
    }
   ],
   "source": [
    "ET_time_start = time.time()\n",
    "n_estimators=[100,200,300,400,500,600]\n",
    "for n in n_estimators:\n",
    "        clf=ExtraTreesClassifier(n_estimators=n)\n",
    "        clf.fit(x_train,y_train)\n",
    "        pred=clf.predict(x_val)\n",
    "        print('参数：','n_estimators=',n,'准确率：',accuracy_score(pred,y_val))\n",
    "ET_time_end = time.time()"
   ]
  },
  {
   "cell_type": "code",
   "execution_count": 23,
   "metadata": {},
   "outputs": [
    {
     "data": {
      "text/plain": [
       "7.453470468521118"
      ]
     },
     "execution_count": 23,
     "metadata": {},
     "output_type": "execute_result"
    }
   ],
   "source": [
    "ET_time_end-ET_time_start"
   ]
  },
  {
   "cell_type": "markdown",
   "metadata": {},
   "source": [
    "  "
   ]
  },
  {
   "cell_type": "markdown",
   "metadata": {},
   "source": [
    "  "
   ]
  },
  {
   "cell_type": "markdown",
   "metadata": {},
   "source": [
    "模型评估"
   ]
  },
  {
   "cell_type": "code",
   "execution_count": 24,
   "metadata": {},
   "outputs": [],
   "source": [
    "def evaluation(clf):\n",
    "    clf.fit(x_train,y_train)\n",
    "    y_pre=clf.predict(x_test)\n",
    "    print('confusion_matrix:','\\n')\n",
    "    print(confusion_matrix(y_test, y_pre),'\\n')\n",
    "    print('accuracy:',accuracy_score(y_test, y_pre),';','kappa',cohen_kappa_score(y_test, y_pre))"
   ]
  },
  {
   "cell_type": "code",
   "execution_count": 25,
   "metadata": {},
   "outputs": [
    {
     "name": "stdout",
     "output_type": "stream",
     "text": [
      "confusion_matrix: \n",
      "\n",
      "[[2 0 0 ... 0 0 0]\n",
      " [0 2 0 ... 0 0 0]\n",
      " [0 0 2 ... 0 0 0]\n",
      " ...\n",
      " [0 0 0 ... 2 0 0]\n",
      " [0 0 0 ... 0 2 0]\n",
      " [0 0 0 ... 0 0 2]] \n",
      "\n",
      "accuracy: 0.9875 ; kappa 0.9871794871794872\n"
     ]
    }
   ],
   "source": [
    "evaluation(SVC(C=1,kernel='linear',gamma=1))"
   ]
  },
  {
   "cell_type": "code",
   "execution_count": 26,
   "metadata": {},
   "outputs": [
    {
     "name": "stdout",
     "output_type": "stream",
     "text": [
      "confusion_matrix: \n",
      "\n",
      "[[1 0 0 ... 0 0 0]\n",
      " [0 2 0 ... 0 0 0]\n",
      " [0 0 2 ... 0 0 0]\n",
      " ...\n",
      " [0 0 0 ... 2 0 0]\n",
      " [0 0 0 ... 0 2 0]\n",
      " [0 0 0 ... 0 0 0]] \n",
      "\n",
      "accuracy: 0.925 ; kappa 0.9230769230769231\n"
     ]
    }
   ],
   "source": [
    "evaluation(GaussianNB(var_smoothing=0.1))"
   ]
  },
  {
   "cell_type": "code",
   "execution_count": 27,
   "metadata": {},
   "outputs": [
    {
     "name": "stdout",
     "output_type": "stream",
     "text": [
      "confusion_matrix: \n",
      "\n",
      "[[0 0 0 ... 1 0 0]\n",
      " [0 2 0 ... 0 0 0]\n",
      " [0 0 2 ... 0 0 0]\n",
      " ...\n",
      " [0 0 0 ... 2 0 0]\n",
      " [0 0 0 ... 0 2 0]\n",
      " [0 0 0 ... 0 0 1]] \n",
      "\n",
      "accuracy: 0.9375 ; kappa 0.9358974358974359\n"
     ]
    }
   ],
   "source": [
    "evaluation(KNeighborsClassifier(n_neighbors=1))"
   ]
  },
  {
   "cell_type": "code",
   "execution_count": 28,
   "metadata": {},
   "outputs": [
    {
     "name": "stdout",
     "output_type": "stream",
     "text": [
      "confusion_matrix: \n",
      "\n",
      "[[2 0 0 ... 0 0 0]\n",
      " [0 2 0 ... 0 0 0]\n",
      " [0 0 2 ... 0 0 0]\n",
      " ...\n",
      " [0 0 0 ... 2 0 0]\n",
      " [0 0 0 ... 0 2 0]\n",
      " [0 0 0 ... 0 0 1]] \n",
      "\n",
      "accuracy: 0.975 ; kappa 0.9743589743589743\n"
     ]
    }
   ],
   "source": [
    "evaluation(LogisticRegression(penalty='l2',C=0.1))"
   ]
  },
  {
   "cell_type": "code",
   "execution_count": 31,
   "metadata": {},
   "outputs": [
    {
     "name": "stdout",
     "output_type": "stream",
     "text": [
      "confusion_matrix: \n",
      "\n",
      "[[2 0 0 ... 0 0 0]\n",
      " [0 2 0 ... 0 0 0]\n",
      " [0 0 2 ... 0 0 0]\n",
      " ...\n",
      " [0 0 0 ... 2 0 0]\n",
      " [0 0 0 ... 0 2 0]\n",
      " [0 0 0 ... 0 0 1]] \n",
      "\n",
      "accuracy: 0.975 ; kappa 0.9743589743589743\n"
     ]
    }
   ],
   "source": [
    "evaluation(ExtraTreesClassifier(n_estimators=300))"
   ]
  }
 ],
 "metadata": {
  "kernelspec": {
   "display_name": "Python 3",
   "language": "python",
   "name": "python3"
  },
  "language_info": {
   "codemirror_mode": {
    "name": "ipython",
    "version": 3
   },
   "file_extension": ".py",
   "mimetype": "text/x-python",
   "name": "python",
   "nbconvert_exporter": "python",
   "pygments_lexer": "ipython3",
   "version": "3.6.8"
  }
 },
 "nbformat": 4,
 "nbformat_minor": 2
}
