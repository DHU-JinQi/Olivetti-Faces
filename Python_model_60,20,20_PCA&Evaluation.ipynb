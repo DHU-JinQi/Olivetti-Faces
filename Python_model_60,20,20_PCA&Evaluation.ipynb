{
 "cells": [
  {
   "cell_type": "code",
   "execution_count": 1,
   "metadata": {},
   "outputs": [],
   "source": [
    "# Ignore  the warnings\n",
    "import warnings\n",
    "warnings.filterwarnings('always')\n",
    "warnings.filterwarnings('ignore')\n",
    "\n",
    "import numpy as np\n",
    "import pandas as pd\n",
    "import time\n",
    "import random\n",
    "\n",
    "from sklearn.utils import shuffle\n",
    "\n",
    "from sklearn.preprocessing import MinMaxScaler\n",
    "\n",
    "from sklearn.model_selection import cross_val_score\n",
    "\n",
    "from sklearn.svm import LinearSVC,SVC\n",
    "from sklearn.naive_bayes import GaussianNB\n",
    "from sklearn.neighbors import KNeighborsClassifier\n",
    "from sklearn.linear_model import SGDClassifier\n",
    "from sklearn.linear_model import LogisticRegression\n",
    "from sklearn.ensemble import RandomForestClassifier\n",
    "from sklearn.ensemble import GradientBoostingClassifier\n",
    "from sklearn.ensemble import AdaBoostClassifier\n",
    "from sklearn.ensemble import BaggingClassifier\n",
    "from sklearn.ensemble import ExtraTreesClassifier\n",
    "from sklearn.ensemble import VotingClassifier\n",
    "from sklearn.tree import DecisionTreeClassifier\n",
    "from xgboost import XGBClassifier\n",
    "\n",
    "from sklearn.decomposition import PCA\n",
    "\n",
    "from sklearn.metrics import accuracy_score\n",
    "from sklearn.metrics import confusion_matrix\n",
    "from sklearn.metrics import cohen_kappa_score\n",
    "\n",
    "#from sklearn.datasets import fetch_olivetti_faces\n",
    "#of= fetch_olivetti_faces()"
   ]
  },
  {
   "cell_type": "code",
   "execution_count": 2,
   "metadata": {},
   "outputs": [],
   "source": [
    "data=pd.read_table('faces.txt',' ',header=None)"
   ]
  },
  {
   "cell_type": "code",
   "execution_count": 3,
   "metadata": {},
   "outputs": [],
   "source": [
    "scaler=MinMaxScaler()\n",
    "scaler.fit(data)\n",
    "data=scaler.transform(data)\n",
    "data=pd.DataFrame(data)"
   ]
  },
  {
   "cell_type": "code",
   "execution_count": 4,
   "metadata": {},
   "outputs": [],
   "source": [
    "#系统抽样\n",
    "def system_sampling():\n",
    "    train_list=[]\n",
    "    test_list=[]\n",
    "    i=1\n",
    "    while(len(train_list)!=6):\n",
    "        random.seed(i)\n",
    "        tr=random.randint(0,9)\n",
    "        if tr in train_list:\n",
    "            pass\n",
    "        else:\n",
    "            train_list.append(tr)\n",
    "        i+=1\n",
    "    while(len(test_list)!=2):\n",
    "        random.seed(i)\n",
    "        te=random.randint(0,9)\n",
    "        if te in train_list or te in test_list:\n",
    "            pass\n",
    "        else:\n",
    "            test_list.append(te)\n",
    "        i+=1\n",
    "    validation_list=[i for i in range(10) if i not in train_list and i not in test_list]\n",
    "\n",
    "    train_list.sort()\n",
    "    test_list.sort()\n",
    "    validation_list.sort()\n",
    "\n",
    "    train_index=[]\n",
    "    test_index=[]\n",
    "    validation_index=[]\n",
    "    for i in train_list:\n",
    "        train_index.append(i)\n",
    "        for j in range(1,40):\n",
    "            train_index.append(i+j*10)\n",
    "\n",
    "    for i in test_list:\n",
    "        test_index.append(i)\n",
    "        for j in range(1,40):\n",
    "            test_index.append(i+j*10)\n",
    "\n",
    "    for i in validation_list:\n",
    "        validation_index.append(i)\n",
    "        for j in range(1,40):\n",
    "            validation_index.append(i+j*10)\n",
    "    \n",
    "    return  train_index,validation_index,test_index"
   ]
  },
  {
   "cell_type": "code",
   "execution_count": 5,
   "metadata": {},
   "outputs": [
    {
     "data": {
      "text/plain": [
       "PCA(copy=True, iterated_power='auto', n_components=0.95, random_state=None,\n",
       "  svd_solver='auto', tol=0.0, whiten=False)"
      ]
     },
     "execution_count": 5,
     "metadata": {},
     "output_type": "execute_result"
    }
   ],
   "source": [
    "pca = PCA(n_components=0.95)#保留95%的方差\n",
    "pca.fit(data)"
   ]
  },
  {
   "cell_type": "code",
   "execution_count": 6,
   "metadata": {},
   "outputs": [
    {
     "data": {
      "text/plain": [
       "121"
      ]
     },
     "execution_count": 6,
     "metadata": {},
     "output_type": "execute_result"
    }
   ],
   "source": [
    "pca.n_components_"
   ]
  },
  {
   "cell_type": "code",
   "execution_count": 7,
   "metadata": {},
   "outputs": [],
   "source": [
    "data_new = pca.transform(data)\n",
    "data_new=pd.DataFrame(data_new)\n",
    "Y = np.array([i for i in range(1,41,1)])\n",
    "Y = np.repeat(Y, [10]*40, axis=0)\n",
    "data_new.insert(0,'Y',Y)\n",
    "\n",
    "train_index,validation_index,test_index=system_sampling()\n",
    "\n",
    "data_new_test=data_new.loc[test_index]\n",
    "data_new_train=data_new.loc[train_index]\n",
    "data_new_validation=data_new.loc[validation_index]\n",
    "\n",
    "x_train=np.array(data_new_train[data_new_train.columns.difference(['Y'])])\n",
    "y_train=np.array(data_new_train['Y'])\n",
    "\n",
    "x_val=np.array(data_new_validation[data_new_validation.columns.difference(['Y'])])\n",
    "y_val=np.array(data_new_validation['Y'])\n",
    "\n",
    "x_test=np.array(data_new_test[data_new_test.columns.difference(['Y'])])\n",
    "y_test=np.array(data_new_test['Y'])"
   ]
  },
  {
   "cell_type": "code",
   "execution_count": 8,
   "metadata": {},
   "outputs": [],
   "source": [
    "models=[GaussianNB(),SGDClassifier(),KNeighborsClassifier()\n",
    "        ,LinearSVC(),LogisticRegression(),SVC(kernel='rbf')\n",
    "        ,DecisionTreeClassifier(),AdaBoostClassifier(),GradientBoostingClassifier()\n",
    "        ,RandomForestClassifier(),BaggingClassifier(),ExtraTreesClassifier()\n",
    "        ,XGBClassifier()]\n",
    "\n",
    "model_names=['GaussianNB','SGDClassifier','KNearestNeighbors'\n",
    "             ,'LinearSVM','LogisticRegression','rbfSVM'\n",
    "             ,'DecisionTree','AdaBoostClassifier','GradientBoostingClassifier'\n",
    "             ,'RandomForestClassifier','BaggingClassifier','ExtraTreesClassifier'\n",
    "             ,'xgboost'\n",
    "]\n",
    "\n",
    "accuracy_new=[]\n",
    "clf=[]\n",
    "t_new=[]\n",
    "i=0\n",
    "for m in range(len(models)):\n",
    "    clf.append(models[m])\n",
    "    time_start = time.time()\n",
    "    clf[i].fit(x_train,y_train)\n",
    "    pred=clf[i].predict(x_val)\n",
    "    accuracy_new.append(accuracy_score(pred,y_val))\n",
    "    time_end = time.time()\n",
    "    t_new.append(time_end-time_start)\n",
    "    i=i+1\n",
    "result_frame1=pd.DataFrame({'Model':model_names,'Validation set accuracy':accuracy_new,'Time':t_new})"
   ]
  },
  {
   "cell_type": "code",
   "execution_count": 9,
   "metadata": {},
   "outputs": [
    {
     "data": {
      "text/html": [
       "<div>\n",
       "<style scoped>\n",
       "    .dataframe tbody tr th:only-of-type {\n",
       "        vertical-align: middle;\n",
       "    }\n",
       "\n",
       "    .dataframe tbody tr th {\n",
       "        vertical-align: top;\n",
       "    }\n",
       "\n",
       "    .dataframe thead th {\n",
       "        text-align: right;\n",
       "    }\n",
       "</style>\n",
       "<table border=\"1\" class=\"dataframe\">\n",
       "  <thead>\n",
       "    <tr style=\"text-align: right;\">\n",
       "      <th></th>\n",
       "      <th>Model</th>\n",
       "      <th>Validation set accuracy</th>\n",
       "      <th>Time</th>\n",
       "    </tr>\n",
       "  </thead>\n",
       "  <tbody>\n",
       "    <tr>\n",
       "      <th>0</th>\n",
       "      <td>GaussianNB</td>\n",
       "      <td>0.6875</td>\n",
       "      <td>0.005984</td>\n",
       "    </tr>\n",
       "    <tr>\n",
       "      <th>1</th>\n",
       "      <td>SGDClassifier</td>\n",
       "      <td>0.7375</td>\n",
       "      <td>0.012965</td>\n",
       "    </tr>\n",
       "    <tr>\n",
       "      <th>2</th>\n",
       "      <td>KNearestNeighbors</td>\n",
       "      <td>0.7875</td>\n",
       "      <td>0.006981</td>\n",
       "    </tr>\n",
       "    <tr>\n",
       "      <th>3</th>\n",
       "      <td>LinearSVM</td>\n",
       "      <td>0.9375</td>\n",
       "      <td>0.904584</td>\n",
       "    </tr>\n",
       "    <tr>\n",
       "      <th>4</th>\n",
       "      <td>LogisticRegression</td>\n",
       "      <td>0.9500</td>\n",
       "      <td>0.200464</td>\n",
       "    </tr>\n",
       "    <tr>\n",
       "      <th>5</th>\n",
       "      <td>rbfSVM</td>\n",
       "      <td>0.9250</td>\n",
       "      <td>0.036900</td>\n",
       "    </tr>\n",
       "    <tr>\n",
       "      <th>6</th>\n",
       "      <td>DecisionTree</td>\n",
       "      <td>0.4375</td>\n",
       "      <td>0.047874</td>\n",
       "    </tr>\n",
       "    <tr>\n",
       "      <th>7</th>\n",
       "      <td>AdaBoostClassifier</td>\n",
       "      <td>0.0250</td>\n",
       "      <td>0.298201</td>\n",
       "    </tr>\n",
       "    <tr>\n",
       "      <th>8</th>\n",
       "      <td>GradientBoostingClassifier</td>\n",
       "      <td>0.4500</td>\n",
       "      <td>3.385951</td>\n",
       "    </tr>\n",
       "    <tr>\n",
       "      <th>9</th>\n",
       "      <td>RandomForestClassifier</td>\n",
       "      <td>0.4500</td>\n",
       "      <td>0.029920</td>\n",
       "    </tr>\n",
       "    <tr>\n",
       "      <th>10</th>\n",
       "      <td>BaggingClassifier</td>\n",
       "      <td>0.6000</td>\n",
       "      <td>0.308179</td>\n",
       "    </tr>\n",
       "    <tr>\n",
       "      <th>11</th>\n",
       "      <td>ExtraTreesClassifier</td>\n",
       "      <td>0.5875</td>\n",
       "      <td>0.014959</td>\n",
       "    </tr>\n",
       "    <tr>\n",
       "      <th>12</th>\n",
       "      <td>xgboost</td>\n",
       "      <td>0.6875</td>\n",
       "      <td>6.207941</td>\n",
       "    </tr>\n",
       "  </tbody>\n",
       "</table>\n",
       "</div>"
      ],
      "text/plain": [
       "                         Model  Validation set accuracy      Time\n",
       "0                   GaussianNB                   0.6875  0.005984\n",
       "1                SGDClassifier                   0.7375  0.012965\n",
       "2            KNearestNeighbors                   0.7875  0.006981\n",
       "3                    LinearSVM                   0.9375  0.904584\n",
       "4           LogisticRegression                   0.9500  0.200464\n",
       "5                       rbfSVM                   0.9250  0.036900\n",
       "6                 DecisionTree                   0.4375  0.047874\n",
       "7           AdaBoostClassifier                   0.0250  0.298201\n",
       "8   GradientBoostingClassifier                   0.4500  3.385951\n",
       "9       RandomForestClassifier                   0.4500  0.029920\n",
       "10           BaggingClassifier                   0.6000  0.308179\n",
       "11        ExtraTreesClassifier                   0.5875  0.014959\n",
       "12                     xgboost                   0.6875  6.207941"
      ]
     },
     "execution_count": 9,
     "metadata": {},
     "output_type": "execute_result"
    }
   ],
   "source": [
    "result_frame1"
   ]
  },
  {
   "cell_type": "markdown",
   "metadata": {},
   "source": [
    " "
   ]
  },
  {
   "cell_type": "markdown",
   "metadata": {},
   "source": [
    " "
   ]
  },
  {
   "cell_type": "markdown",
   "metadata": {},
   "source": [
    "调参"
   ]
  },
  {
   "cell_type": "markdown",
   "metadata": {},
   "source": [
    "1.SVM"
   ]
  },
  {
   "cell_type": "code",
   "execution_count": 10,
   "metadata": {},
   "outputs": [
    {
     "name": "stdout",
     "output_type": "stream",
     "text": [
      "Kernel linear 准确率： 0.9375\n",
      "Kernel poly 准确率： 0.6125\n",
      "Kernel rbf 准确率： 0.925\n",
      "Kernel sigmoid 准确率： 0.775\n"
     ]
    }
   ],
   "source": [
    "SVM_time_start1 = time.time()\n",
    "kernel=['linear','poly','rbf','sigmoid']\n",
    "for k in kernel:\n",
    "    clf=SVC(kernel=k)\n",
    "    clf.fit(x_train,y_train)\n",
    "    pred=clf.predict(x_val)\n",
    "    print('Kernel',k,'准确率：',accuracy_score(pred,y_val))\n",
    "SVM_time_end1 = time.time()"
   ]
  },
  {
   "cell_type": "code",
   "execution_count": 11,
   "metadata": {},
   "outputs": [
    {
     "data": {
      "text/plain": [
       "0.11558866500854492"
      ]
     },
     "execution_count": 11,
     "metadata": {},
     "output_type": "execute_result"
    }
   ],
   "source": [
    "SVM_time_end1-SVM_time_start1"
   ]
  },
  {
   "cell_type": "code",
   "execution_count": 12,
   "metadata": {},
   "outputs": [
    {
     "name": "stdout",
     "output_type": "stream",
     "text": [
      "参数： C: 0.01 gamma: 0.01 准确率： 0.925\n",
      "参数： C: 0.01 gamma: 0.1 准确率： 0.925\n",
      "参数： C: 0.01 gamma: 1 准确率： 0.925\n",
      "参数： C: 0.01 gamma: 10 准确率： 0.925\n",
      "参数： C: 0.01 gamma: 100 准确率： 0.925\n",
      "参数： C: 0.01 gamma: 1000 准确率： 0.925\n",
      "参数： C: 0.1 gamma: 0.01 准确率： 0.9375\n",
      "参数： C: 0.1 gamma: 0.1 准确率： 0.9375\n",
      "参数： C: 0.1 gamma: 1 准确率： 0.9375\n",
      "参数： C: 0.1 gamma: 10 准确率： 0.9375\n",
      "参数： C: 0.1 gamma: 100 准确率： 0.9375\n",
      "参数： C: 0.1 gamma: 1000 准确率： 0.9375\n",
      "参数： C: 1 gamma: 0.01 准确率： 0.9375\n",
      "参数： C: 1 gamma: 0.1 准确率： 0.9375\n",
      "参数： C: 1 gamma: 1 准确率： 0.9375\n",
      "参数： C: 1 gamma: 10 准确率： 0.9375\n",
      "参数： C: 1 gamma: 100 准确率： 0.9375\n",
      "参数： C: 1 gamma: 1000 准确率： 0.9375\n",
      "参数： C: 10 gamma: 0.01 准确率： 0.9375\n",
      "参数： C: 10 gamma: 0.1 准确率： 0.9375\n",
      "参数： C: 10 gamma: 1 准确率： 0.9375\n",
      "参数： C: 10 gamma: 10 准确率： 0.9375\n",
      "参数： C: 10 gamma: 100 准确率： 0.9375\n",
      "参数： C: 10 gamma: 1000 准确率： 0.9375\n",
      "参数： C: 100 gamma: 0.01 准确率： 0.9375\n",
      "参数： C: 100 gamma: 0.1 准确率： 0.9375\n",
      "参数： C: 100 gamma: 1 准确率： 0.9375\n",
      "参数： C: 100 gamma: 10 准确率： 0.9375\n",
      "参数： C: 100 gamma: 100 准确率： 0.9375\n",
      "参数： C: 100 gamma: 1000 准确率： 0.9375\n",
      "参数： C: 1000 gamma: 0.01 准确率： 0.9375\n",
      "参数： C: 1000 gamma: 0.1 准确率： 0.9375\n",
      "参数： C: 1000 gamma: 1 准确率： 0.9375\n",
      "参数： C: 1000 gamma: 10 准确率： 0.9375\n",
      "参数： C: 1000 gamma: 100 准确率： 0.9375\n",
      "参数： C: 1000 gamma: 1000 准确率： 0.9375\n"
     ]
    }
   ],
   "source": [
    "SVM_time_start2 = time.time()\n",
    "C=[0.01,0.1,1,10,100,1000]\n",
    "gamma=[0.01,0.1,1,10,100,1000]\n",
    "for c in C:\n",
    "    for g in gamma:\n",
    "        clf=SVC(C=c,kernel='linear',gamma=g)\n",
    "        clf.fit(x_train,y_train)\n",
    "        pred=clf.predict(x_val)\n",
    "        print('参数：','C:',c,'gamma:',g,'准确率：',accuracy_score(pred,y_val))\n",
    "SVM_time_end2 = time.time()"
   ]
  },
  {
   "cell_type": "code",
   "execution_count": 13,
   "metadata": {},
   "outputs": [
    {
     "data": {
      "text/plain": [
       "0.8985977172851562"
      ]
     },
     "execution_count": 13,
     "metadata": {},
     "output_type": "execute_result"
    }
   ],
   "source": [
    "SVM_time_end2-SVM_time_start2"
   ]
  },
  {
   "cell_type": "markdown",
   "metadata": {},
   "source": [
    " "
   ]
  },
  {
   "cell_type": "markdown",
   "metadata": {},
   "source": [
    " "
   ]
  },
  {
   "cell_type": "markdown",
   "metadata": {},
   "source": [
    "2.GaussianNB"
   ]
  },
  {
   "cell_type": "code",
   "execution_count": 14,
   "metadata": {},
   "outputs": [
    {
     "name": "stdout",
     "output_type": "stream",
     "text": [
      "参数： var_smoothing: 1 准确率： 0.725\n",
      "参数： var_smoothing: 0.1 准确率： 0.8375\n",
      "参数： var_smoothing: 0.01 准确率： 0.9\n",
      "参数： var_smoothing: 0.001 准确率： 0.8125\n",
      "参数： var_smoothing: 0.0001 准确率： 0.725\n",
      "参数： var_smoothing: 1e-05 准确率： 0.6875\n",
      "参数： var_smoothing: 1e-06 准确率： 0.6875\n",
      "参数： var_smoothing: 1e-07 准确率： 0.6875\n",
      "参数： var_smoothing: 1e-08 准确率： 0.6875\n",
      "参数： var_smoothing: 1e-09 准确率： 0.6875\n"
     ]
    }
   ],
   "source": [
    "NB_time_start = time.time()\n",
    "var_smoothing=[10**-i for i in range(10)]\n",
    "for v in var_smoothing:\n",
    "        clf=GaussianNB(var_smoothing=v)\n",
    "        clf.fit(x_train,y_train)\n",
    "        pred=clf.predict(x_val)\n",
    "        print('参数：','var_smoothing:',v,'准确率：',accuracy_score(pred,y_val))\n",
    "NB_time_end = time.time()"
   ]
  },
  {
   "cell_type": "code",
   "execution_count": 15,
   "metadata": {},
   "outputs": [
    {
     "data": {
      "text/plain": [
       "0.07879066467285156"
      ]
     },
     "execution_count": 15,
     "metadata": {},
     "output_type": "execute_result"
    }
   ],
   "source": [
    "NB_time_end-NB_time_start"
   ]
  },
  {
   "cell_type": "markdown",
   "metadata": {},
   "source": [
    " "
   ]
  },
  {
   "cell_type": "markdown",
   "metadata": {},
   "source": [
    "3.KNearestNeighbors"
   ]
  },
  {
   "cell_type": "code",
   "execution_count": 16,
   "metadata": {},
   "outputs": [
    {
     "name": "stdout",
     "output_type": "stream",
     "text": [
      "参数： n_neighbors= 1 准确率： 0.9125\n",
      "参数： n_neighbors= 2 准确率： 0.825\n",
      "参数： n_neighbors= 3 准确率： 0.8125\n",
      "参数： n_neighbors= 4 准确率： 0.7875\n",
      "参数： n_neighbors= 5 准确率： 0.7875\n",
      "参数： n_neighbors= 6 准确率： 0.75\n",
      "参数： n_neighbors= 7 准确率： 0.7125\n",
      "参数： n_neighbors= 8 准确率： 0.6375\n",
      "参数： n_neighbors= 9 准确率： 0.65\n",
      "参数： n_neighbors= 10 准确率： 0.6125\n"
     ]
    }
   ],
   "source": [
    "KNN_time_start = time.time()\n",
    "n_neighbors=[i for i in range(1,11)]\n",
    "for n in n_neighbors:\n",
    "        clf=KNeighborsClassifier(n_neighbors=n)\n",
    "        clf.fit(x_train,y_train)\n",
    "        pred=clf.predict(x_val)\n",
    "        print('参数：','n_neighbors=',n,'准确率：',accuracy_score(pred,y_val))\n",
    "KNN_time_end = time.time()"
   ]
  },
  {
   "cell_type": "code",
   "execution_count": 17,
   "metadata": {},
   "outputs": [
    {
     "data": {
      "text/plain": [
       "0.06383061408996582"
      ]
     },
     "execution_count": 17,
     "metadata": {},
     "output_type": "execute_result"
    }
   ],
   "source": [
    "KNN_time_end-KNN_time_start"
   ]
  },
  {
   "cell_type": "markdown",
   "metadata": {},
   "source": [
    " "
   ]
  },
  {
   "cell_type": "markdown",
   "metadata": {},
   "source": [
    " "
   ]
  },
  {
   "cell_type": "markdown",
   "metadata": {},
   "source": [
    "4.LogisticRegression"
   ]
  },
  {
   "cell_type": "code",
   "execution_count": 18,
   "metadata": {},
   "outputs": [
    {
     "name": "stdout",
     "output_type": "stream",
     "text": [
      "参数： penalty: l1 C: 0.001 准确率： 0.025\n",
      "参数： penalty: l1 C: 0.01 准确率： 0.025\n",
      "参数： penalty: l1 C: 0.1 准确率： 0.55\n",
      "参数： penalty: l1 C: 1 准确率： 0.9\n",
      "参数： penalty: l1 C: 10 准确率： 0.925\n",
      "参数： penalty: l1 C: 100 准确率： 0.925\n",
      "参数： penalty: l1 C: 1000 准确率： 0.925\n",
      "参数： penalty: l2 C: 0.001 准确率： 0.7375\n",
      "参数： penalty: l2 C: 0.01 准确率： 0.9375\n",
      "参数： penalty: l2 C: 0.1 准确率： 0.9625\n",
      "参数： penalty: l2 C: 1 准确率： 0.95\n",
      "参数： penalty: l2 C: 10 准确率： 0.95\n",
      "参数： penalty: l2 C: 100 准确率： 0.95\n",
      "参数： penalty: l2 C: 1000 准确率： 0.9375\n"
     ]
    }
   ],
   "source": [
    "LR_time_start = time.time()\n",
    "LR_accuracy=[]\n",
    "penalty=['l1','l2']\n",
    "C=[0.001, 0.01, 0.1, 1, 10, 100, 1000]\n",
    "for p in penalty:\n",
    "    for c in C:\n",
    "        clf=LogisticRegression(penalty=p,C=c)\n",
    "        clf.fit(x_train,y_train)\n",
    "        pred=clf.predict(x_val)\n",
    "        print('参数：','penalty:',p,'C:',c,'准确率：',accuracy_score(pred,y_val))\n",
    "        LR_accuracy.append(accuracy_score(pred,y_val))\n",
    "LR_time_end = time.time()"
   ]
  },
  {
   "cell_type": "code",
   "execution_count": 19,
   "metadata": {},
   "outputs": [
    {
     "data": {
      "text/plain": [
       "2.078446388244629"
      ]
     },
     "execution_count": 19,
     "metadata": {},
     "output_type": "execute_result"
    }
   ],
   "source": [
    "LR_time_end-LR_time_start"
   ]
  },
  {
   "cell_type": "markdown",
   "metadata": {},
   "source": [
    " "
   ]
  },
  {
   "cell_type": "markdown",
   "metadata": {},
   "source": [
    " "
   ]
  },
  {
   "cell_type": "markdown",
   "metadata": {},
   "source": [
    "5.ExtraTreesClassifier"
   ]
  },
  {
   "cell_type": "code",
   "execution_count": 20,
   "metadata": {},
   "outputs": [
    {
     "name": "stdout",
     "output_type": "stream",
     "text": [
      "参数： n_estimators= 100 准确率： 0.875\n",
      "参数： n_estimators= 200 准确率： 0.8875\n",
      "参数： n_estimators= 300 准确率： 0.925\n",
      "参数： n_estimators= 400 准确率： 0.925\n",
      "参数： n_estimators= 500 准确率： 0.925\n",
      "参数： n_estimators= 600 准确率： 0.925\n"
     ]
    }
   ],
   "source": [
    "ET_time_start = time.time()\n",
    "n_estimators=[100,200,300,400,500,600]\n",
    "for n in n_estimators:\n",
    "        clf=ExtraTreesClassifier(n_estimators=n)\n",
    "        clf.fit(x_train,y_train)\n",
    "        pred=clf.predict(x_val)\n",
    "        print('参数：','n_estimators=',n,'准确率：',accuracy_score(pred,y_val))\n",
    "ET_time_end = time.time()"
   ]
  },
  {
   "cell_type": "code",
   "execution_count": 21,
   "metadata": {},
   "outputs": [
    {
     "data": {
      "text/plain": [
       "2.7396795749664307"
      ]
     },
     "execution_count": 21,
     "metadata": {},
     "output_type": "execute_result"
    }
   ],
   "source": [
    "ET_time_end-ET_time_start"
   ]
  },
  {
   "cell_type": "markdown",
   "metadata": {},
   "source": [
    " "
   ]
  },
  {
   "cell_type": "markdown",
   "metadata": {},
   "source": [
    " "
   ]
  },
  {
   "cell_type": "markdown",
   "metadata": {},
   "source": [
    " "
   ]
  },
  {
   "cell_type": "markdown",
   "metadata": {},
   "source": [
    "模型评估"
   ]
  },
  {
   "cell_type": "code",
   "execution_count": 22,
   "metadata": {},
   "outputs": [],
   "source": [
    "def evaluation(clf):\n",
    "    clf.fit(x_train,y_train)\n",
    "    y_pre=clf.predict(x_test)\n",
    "    print('confusion_matrix:','\\n')\n",
    "    print(confusion_matrix(y_test, y_pre),'\\n')\n",
    "    print('accuracy:',accuracy_score(y_test, y_pre),';','kappa',cohen_kappa_score(y_test, y_pre))"
   ]
  },
  {
   "cell_type": "code",
   "execution_count": 23,
   "metadata": {},
   "outputs": [
    {
     "name": "stdout",
     "output_type": "stream",
     "text": [
      "confusion_matrix: \n",
      "\n",
      "[[2 0 0 ... 0 0 0]\n",
      " [0 2 0 ... 0 0 0]\n",
      " [0 0 2 ... 0 0 0]\n",
      " ...\n",
      " [0 0 0 ... 2 0 0]\n",
      " [0 0 0 ... 0 2 0]\n",
      " [0 0 0 ... 0 0 2]] \n",
      "\n",
      "accuracy: 0.9875 ; kappa 0.9871794871794872\n"
     ]
    }
   ],
   "source": [
    "evaluation(SVC(C=1,kernel='linear',gamma=1))"
   ]
  },
  {
   "cell_type": "code",
   "execution_count": 24,
   "metadata": {},
   "outputs": [
    {
     "name": "stdout",
     "output_type": "stream",
     "text": [
      "confusion_matrix: \n",
      "\n",
      "[[2 0 0 ... 0 0 0]\n",
      " [0 2 0 ... 0 0 0]\n",
      " [0 0 2 ... 0 0 0]\n",
      " ...\n",
      " [0 0 0 ... 2 0 0]\n",
      " [0 0 0 ... 0 2 0]\n",
      " [0 0 0 ... 0 0 2]] \n",
      "\n",
      "accuracy: 0.9875 ; kappa 0.9871794871794872\n"
     ]
    }
   ],
   "source": [
    "evaluation(GaussianNB(var_smoothing=0.01))"
   ]
  },
  {
   "cell_type": "code",
   "execution_count": 25,
   "metadata": {},
   "outputs": [
    {
     "name": "stdout",
     "output_type": "stream",
     "text": [
      "confusion_matrix: \n",
      "\n",
      "[[0 0 0 ... 1 0 0]\n",
      " [0 2 0 ... 0 0 0]\n",
      " [0 0 2 ... 0 0 0]\n",
      " ...\n",
      " [0 0 0 ... 2 0 0]\n",
      " [0 0 0 ... 0 2 0]\n",
      " [0 0 0 ... 0 0 1]] \n",
      "\n",
      "accuracy: 0.9375 ; kappa 0.9358974358974359\n"
     ]
    }
   ],
   "source": [
    "evaluation(KNeighborsClassifier(n_neighbors=1))"
   ]
  },
  {
   "cell_type": "code",
   "execution_count": 26,
   "metadata": {},
   "outputs": [
    {
     "name": "stdout",
     "output_type": "stream",
     "text": [
      "confusion_matrix: \n",
      "\n",
      "[[2 0 0 ... 0 0 0]\n",
      " [0 2 0 ... 0 0 0]\n",
      " [0 0 2 ... 0 0 0]\n",
      " ...\n",
      " [0 0 0 ... 2 0 0]\n",
      " [0 0 0 ... 0 2 0]\n",
      " [0 0 0 ... 0 0 2]] \n",
      "\n",
      "accuracy: 1.0 ; kappa 1.0\n"
     ]
    }
   ],
   "source": [
    "evaluation(LogisticRegression(penalty='l2',C=0.1))"
   ]
  },
  {
   "cell_type": "code",
   "execution_count": 27,
   "metadata": {},
   "outputs": [
    {
     "name": "stdout",
     "output_type": "stream",
     "text": [
      "confusion_matrix: \n",
      "\n",
      "[[2 0 0 ... 0 0 0]\n",
      " [0 2 0 ... 0 0 0]\n",
      " [0 0 2 ... 0 0 0]\n",
      " ...\n",
      " [0 0 0 ... 2 0 0]\n",
      " [0 0 0 ... 0 2 0]\n",
      " [0 0 0 ... 0 0 1]] \n",
      "\n",
      "accuracy: 0.9875 ; kappa 0.9871794871794872\n"
     ]
    }
   ],
   "source": [
    "evaluation(ExtraTreesClassifier(n_estimators=300))"
   ]
  }
 ],
 "metadata": {
  "kernelspec": {
   "display_name": "Python 3",
   "language": "python",
   "name": "python3"
  },
  "language_info": {
   "codemirror_mode": {
    "name": "ipython",
    "version": 3
   },
   "file_extension": ".py",
   "mimetype": "text/x-python",
   "name": "python",
   "nbconvert_exporter": "python",
   "pygments_lexer": "ipython3",
   "version": "3.6.6"
  }
 },
 "nbformat": 4,
 "nbformat_minor": 2
}
